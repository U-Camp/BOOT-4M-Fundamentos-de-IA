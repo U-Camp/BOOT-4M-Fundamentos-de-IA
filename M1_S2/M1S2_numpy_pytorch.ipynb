{
 "cells": [
  {
   "cell_type": "markdown",
   "source": [
    "$[5 ~ 7 ~ 9 ~ 11 ~ 13 ~ 15 ~ 17 ~ 19]$"
   ],
   "metadata": {
    "collapsed": false,
    "pycharm": {
     "name": "#%% md\n"
    }
   }
  },
  {
   "cell_type": "code",
   "execution_count": 1,
   "metadata": {
    "collapsed": true,
    "pycharm": {
     "name": "#%%\n"
    }
   },
   "outputs": [
    {
     "name": "stdout",
     "output_type": "stream",
     "text": [
      "tensor([ 5.,  7.,  9., 11., 13., 15., 17., 19.])\n",
      "[ 5  7  9 11 13 15 17 19]\n"
     ]
    }
   ],
   "source": [
    "import torch\n",
    "import numpy as np\n",
    "\n",
    "\n",
    "X = torch.Tensor([5, 7, 9, 11, 13, 15, 17, 19])\n",
    "Y = np.array([5, 7, 9, 11, 13, 15, 17, 19])\n",
    "print(X)\n",
    "print(Y)"
   ]
  },
  {
   "cell_type": "markdown",
   "source": [
    "$\n",
    "\\left(\n",
    "\\begin{array}{ccc}\n",
    "1 & 2  & 3\\\\\n",
    "4  & 5 & 6\n",
    "\\end{array}\n",
    "\\right)\n",
    "$"
   ],
   "metadata": {
    "collapsed": false,
    "pycharm": {
     "name": "#%% md\n"
    }
   }
  },
  {
   "cell_type": "code",
   "execution_count": 26,
   "outputs": [
    {
     "name": "stdout",
     "output_type": "stream",
     "text": [
      "tensor([[1., 2., 3.],\n",
      "        [4., 5., 6.]])\n",
      "[[1 2 3]\n",
      " [4 5 6]]\n"
     ]
    }
   ],
   "source": [
    "A = torch.Tensor([\n",
    "    [1, 2, 3],\n",
    "    [4, 5, 6]])\n",
    "B = np.array([\n",
    "    [1, 2, 3],\n",
    "    [4, 5, 6]])\n",
    "print(A)\n",
    "print(B)"
   ],
   "metadata": {
    "collapsed": false,
    "pycharm": {
     "name": "#%%\n"
    }
   }
  },
  {
   "cell_type": "code",
   "execution_count": 4,
   "outputs": [
    {
     "name": "stdout",
     "output_type": "stream",
     "text": [
      "torch.Size([2, 3])\n",
      "(2, 3)\n"
     ]
    }
   ],
   "source": [
    "print(A.shape)\n",
    "print(B.shape)"
   ],
   "metadata": {
    "collapsed": false,
    "pycharm": {
     "name": "#%%\n"
    }
   }
  },
  {
   "cell_type": "code",
   "execution_count": 14,
   "outputs": [
    {
     "name": "stdout",
     "output_type": "stream",
     "text": [
      "6\n",
      "6\n"
     ]
    }
   ],
   "source": [
    "print(A.nelement())\n",
    "print(B.size)"
   ],
   "metadata": {
    "collapsed": false,
    "pycharm": {
     "name": "#%%\n"
    }
   }
  },
  {
   "cell_type": "code",
   "execution_count": 16,
   "outputs": [
    {
     "data": {
      "text/plain": "3"
     },
     "execution_count": 16,
     "metadata": {},
     "output_type": "execute_result"
    }
   ],
   "source": [
    "A.size(1)"
   ],
   "metadata": {
    "collapsed": false,
    "pycharm": {
     "name": "#%%\n"
    }
   }
  },
  {
   "cell_type": "code",
   "execution_count": 17,
   "outputs": [
    {
     "name": "stdout",
     "output_type": "stream",
     "text": [
      "2\n",
      "2\n"
     ]
    }
   ],
   "source": [
    "print(A.dim())\n",
    "print(B.ndim)"
   ],
   "metadata": {
    "collapsed": false,
    "pycharm": {
     "name": "#%%\n"
    }
   }
  },
  {
   "cell_type": "code",
   "execution_count": 21,
   "outputs": [
    {
     "data": {
      "text/plain": "tensor([[0, 0],\n        [0, 1],\n        [0, 2]])"
     },
     "execution_count": 21,
     "metadata": {},
     "output_type": "execute_result"
    }
   ],
   "source": [
    "A.nonzero()\n",
    "# print(A)"
   ],
   "metadata": {
    "collapsed": false,
    "pycharm": {
     "name": "#%%\n"
    }
   }
  },
  {
   "cell_type": "code",
   "execution_count": 22,
   "outputs": [
    {
     "name": "stdout",
     "output_type": "stream",
     "text": [
      "tensor([[ 2.7183,  7.3891, 20.0855],\n",
      "        [ 1.0000,  1.0000,  1.0000]])\n",
      "[[  2.71828183   7.3890561   20.08553692]\n",
      " [ 54.59815003 148.4131591  403.42879349]]\n"
     ]
    }
   ],
   "source": [
    "A_exp = A.exp()\n",
    "B_exp = np.exp(B)\n",
    "print(A_exp)\n",
    "print(B_exp)"
   ],
   "metadata": {
    "collapsed": false,
    "pycharm": {
     "name": "#%%\n"
    }
   }
  },
  {
   "cell_type": "markdown",
   "source": [
    "$\\sqrt{e^{X_{n}}+2}$"
   ],
   "metadata": {
    "collapsed": false,
    "pycharm": {
     "name": "#%% md\n"
    }
   }
  },
  {
   "cell_type": "code",
   "execution_count": 24,
   "outputs": [
    {
     "name": "stdout",
     "output_type": "stream",
     "text": [
      "tensor([[2.1722, 3.0642, 4.6995],\n",
      "        [1.7321, 1.7321, 1.7321]])\n"
     ]
    }
   ],
   "source": [
    "print((A.exp() + 2).sqrt())"
   ],
   "metadata": {
    "collapsed": false,
    "pycharm": {
     "name": "#%%\n"
    }
   }
  },
  {
   "cell_type": "markdown",
   "source": [
    "$||\\bar{v}|| = \\sqrt{x_{1}^{2}+x_{2}^{2}+...+x_{n}^{2}}$"
   ],
   "metadata": {
    "collapsed": false,
    "pycharm": {
     "name": "#%% md\n"
    }
   }
  },
  {
   "cell_type": "code",
   "execution_count": 28,
   "outputs": [
    {
     "name": "stdout",
     "output_type": "stream",
     "text": [
      "tensor([[1., 2., 3.],\n",
      "        [4., 5., 6.]])\n",
      "tensor([3.7417, 8.7750])\n"
     ]
    }
   ],
   "source": [
    "print(A)\n",
    "print((A**2).sum(1).sqrt())"
   ],
   "metadata": {
    "collapsed": false,
    "pycharm": {
     "name": "#%%\n"
    }
   }
  },
  {
   "cell_type": "markdown",
   "source": [
    "$\\bar{X} = \\frac{\\Sigma X}{N}$"
   ],
   "metadata": {
    "collapsed": false,
    "pycharm": {
     "name": "#%% md\n"
    }
   }
  },
  {
   "cell_type": "code",
   "execution_count": null,
   "outputs": [],
   "source": [
    "def vector_mean(array):\n",
    "    n = len(array)\n",
    "    i = 0\n",
    "    for element in array:\n",
    "        i = i + element\n",
    "    mean = i/n\n",
    "    return mean\n",
    "\n",
    "def des_estandar(array):\n",
    "    n = len(array)\n",
    "    mu = vector_mean(array)\n",
    "    i = 0\n",
    "    for\n",
    "\n",
    "array = [1, 1, 1, 1, 1]\n",
    "\n",
    "print(vector_mean(array))"
   ],
   "metadata": {
    "collapsed": false,
    "pycharm": {
     "name": "#%%\n",
     "is_executing": true
    }
   }
  },
  {
   "cell_type": "markdown",
   "source": [
    "$\\sigma = \\sqrt{\\frac{1}{N} \\sum_{i=1}^{N}(x_{i}-\\mu)^{2}}$"
   ],
   "metadata": {
    "collapsed": false,
    "pycharm": {
     "name": "#%% md\n"
    }
   }
  },
  {
   "cell_type": "code",
   "execution_count": 33,
   "outputs": [
    {
     "name": "stdout",
     "output_type": "stream",
     "text": [
      "8.01498596380555\n",
      "0.5\n",
      "12.755151020314122\n"
     ]
    }
   ],
   "source": [
    "v1 = [4, 8, 9, 15, 27]\n",
    "v2 = [1, 1, 2, 2]\n",
    "v3 = [0, 9, 14, 23, 28, 37, 2]\n",
    "print(np.std(v1))\n",
    "print(np.std(v2))\n",
    "print(np.std(v3))"
   ],
   "metadata": {
    "collapsed": false,
    "pycharm": {
     "name": "#%%\n"
    }
   }
  }
 ],
 "metadata": {
  "kernelspec": {
   "display_name": "Python 3",
   "language": "python",
   "name": "python3"
  },
  "language_info": {
   "codemirror_mode": {
    "name": "ipython",
    "version": 2
   },
   "file_extension": ".py",
   "mimetype": "text/x-python",
   "name": "python",
   "nbconvert_exporter": "python",
   "pygments_lexer": "ipython2",
   "version": "2.7.6"
  }
 },
 "nbformat": 4,
 "nbformat_minor": 0
}