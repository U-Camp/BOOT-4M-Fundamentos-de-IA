{
 "cells": [
  {
   "cell_type": "code",
   "execution_count": 1,
   "outputs": [
    {
     "name": "stdout",
     "output_type": "stream",
     "text": [
      "Hola, Alvaro Muñoz\n"
     ]
    }
   ],
   "source": [
    "name = input(\"Introduce tu nombre: \")\n",
    "last_name = input(\"Introduce tu apellido: \")\n",
    "\n",
    "full_name = name + \" \" + last_name\n",
    "print(\"Hola, \" + full_name)"
   ],
   "metadata": {
    "collapsed": false,
    "pycharm": {
     "name": "#%%\n"
    }
   }
  },
  {
   "cell_type": "code",
   "execution_count": null,
   "outputs": [],
   "source": [
    "# Simple variables\n",
    "color = \"rojo\"\n",
    "age = 56\n",
    "pi = 3.1416\n",
    "shopping_list = [\"leche\", \"huevos\", \"pan\"]\n",
    "temperature_records = {'cdmx' : [23.5, 24.3, 22.1], 'guadalajara' : [21.1, 22.2, 23.3]}"
   ],
   "metadata": {
    "collapsed": false,
    "pycharm": {
     "name": "#%%\n"
    }
   }
  },
  {
   "cell_type": "code",
   "execution_count": null,
   "outputs": [],
   "source": [
    "# Multiple variables\n",
    "red, blue = 'Rojo', 'Azul'\n",
    "age, birth = 56, 28\n",
    "pi, gravity = [3.1416, 9.81]"
   ],
   "metadata": {
    "collapsed": false,
    "pycharm": {
     "name": "#%%\n"
    }
   }
  },
  {
   "cell_type": "code",
   "execution_count": null,
   "outputs": [],
   "source": [
    "# Literals\n",
    "a = 1\n",
    "massage = 'Bienvenido'\n",
    "total = 78 + 3.24"
   ],
   "metadata": {
    "collapsed": false,
    "pycharm": {
     "name": "#%%\n"
    }
   }
  },
  {
   "cell_type": "code",
   "execution_count": null,
   "outputs": [],
   "source": [
    "# Expressions\n",
    "a = first_number + second_number\n",
    "msg = 'Bienvenido ' + name"
   ],
   "metadata": {
    "collapsed": false,
    "pycharm": {
     "name": "#%%\n"
    }
   }
  },
  {
   "cell_type": "code",
   "execution_count": null,
   "outputs": [],
   "source": [
    "# Reserved words\n",
    "as, assert, break, class, continue, def, del, elif, else, except, finally, for, from, global, if, import, in, is, lambda, nonlocal,\n",
    "not, or, pass, raise, return, try, while, with, yield"
   ],
   "metadata": {
    "collapsed": false,
    "pycharm": {
     "name": "#%%\n"
    }
   }
  },
  {
   "cell_type": "code",
   "execution_count": 4,
   "outputs": [],
   "source": [
    "# Condition\n",
    "x = 0\n",
    "if x > 0:\n",
    "    print(\"x es positivo\")"
   ],
   "metadata": {
    "collapsed": false,
    "pycharm": {
     "name": "#%%\n"
    }
   }
  },
  {
   "cell_type": "code",
   "execution_count": null,
   "outputs": [],
   "source": [
    "# Ejemplos de nombres de variables válidos\n",
    "x = 1\n",
    "x1 = 1\n",
    "x_1 = 1\n",
    "_x1 = 1\n",
    "\n",
    "\n",
    "# Ejemplos de nombres de variables inválidos\n",
    "1x = 1\n",
    "x-1 = 1\n",
    "x.1 = 1\n",
    "x 1 = 1"
   ],
   "metadata": {
    "collapsed": false,
    "pycharm": {
     "name": "#%%\n"
    }
   }
  },
  {
   "cell_type": "code",
   "execution_count": null,
   "outputs": [],
   "source": [
    "area = 8\n",
    "if  = 6 #Error! no podemos usar palabras reservadas para definir variables\n",
    "categoria_color = \"\""
   ],
   "metadata": {
    "collapsed": false,
    "pycharm": {
     "name": "#%%\n"
    }
   }
  },
  {
   "cell_type": "code",
   "execution_count": null,
   "outputs": [],
   "source": [
    "clases_al_dia = 28\n",
    "\n",
    "ACELERACION_CONSTANTE = 9.8"
   ],
   "metadata": {
    "collapsed": false,
    "pycharm": {
     "name": "#%%\n"
    }
   }
  }
 ],
 "metadata": {
  "kernelspec": {
   "display_name": "Python 3",
   "language": "python",
   "name": "python3"
  },
  "language_info": {
   "codemirror_mode": {
    "name": "ipython",
    "version": 2
   },
   "file_extension": ".py",
   "mimetype": "text/x-python",
   "name": "python",
   "nbconvert_exporter": "python",
   "pygments_lexer": "ipython2",
   "version": "2.7.6"
  }
 },
 "nbformat": 4,
 "nbformat_minor": 0
}