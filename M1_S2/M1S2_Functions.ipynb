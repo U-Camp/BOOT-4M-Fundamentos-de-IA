{
 "cells": [
  {
   "cell_type": "code",
   "execution_count": 2,
   "metadata": {
    "collapsed": true,
    "pycharm": {
     "name": "#%%\n"
    }
   },
   "outputs": [
    {
     "name": "stdout",
     "output_type": "stream",
     "text": [
      "Emmanuel Arteaga\n"
     ]
    }
   ],
   "source": [
    "def devolver_nombre(nombre, apellidos):\n",
    "    return nombre + \" \" + apellidos\n",
    "\n",
    "nombre = input(\"Introduce tu nombre: \")\n",
    "apellidos = input(\"Introduce tus apellidos: \")\n",
    "# nombre_completo = nombre + \" \" + apellidos\n",
    "\n",
    "\n",
    "resultado = devolver_nombre(nombre, apellidos)\n",
    "print(resultado)"
   ]
  }
 ],
 "metadata": {
  "kernelspec": {
   "display_name": "Python 3",
   "language": "python",
   "name": "python3"
  },
  "language_info": {
   "codemirror_mode": {
    "name": "ipython",
    "version": 2
   },
   "file_extension": ".py",
   "mimetype": "text/x-python",
   "name": "python",
   "nbconvert_exporter": "python",
   "pygments_lexer": "ipython2",
   "version": "2.7.6"
  }
 },
 "nbformat": 4,
 "nbformat_minor": 0
}